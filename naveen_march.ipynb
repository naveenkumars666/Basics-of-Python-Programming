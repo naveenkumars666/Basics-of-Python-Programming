{
  "nbformat": 4,
  "nbformat_minor": 0,
  "metadata": {
    "colab": {
      "provenance": [],
      "authorship_tag": "ABX9TyOYwuW8toXs7F1u5eeAb+lm",
      "include_colab_link": true
    },
    "kernelspec": {
      "name": "python3",
      "display_name": "Python 3"
    },
    "language_info": {
      "name": "python"
    }
  },
  "cells": [
    {
      "cell_type": "markdown",
      "metadata": {
        "id": "view-in-github",
        "colab_type": "text"
      },
      "source": [
        "<a href=\"https://colab.research.google.com/github/naveenkumars666/Basics-of-Python-Programming/blob/main/naveen_march.ipynb\" target=\"_parent\"><img src=\"https://colab.research.google.com/assets/colab-badge.svg\" alt=\"Open In Colab\"/></a>"
      ]
    },
    {
      "cell_type": "markdown",
      "source": [
        "WEEK 1 DAY 1"
      ],
      "metadata": {
        "id": "Dte6Y4sWnNQx"
      }
    },
    {
      "cell_type": "code",
      "execution_count": null,
      "metadata": {
        "colab": {
          "base_uri": "https://localhost:8080/"
        },
        "id": "mv_rMRd_nJHn",
        "outputId": "de544f85-b250-41bc-edc7-1d5058c71dbd"
      },
      "outputs": [
        {
          "output_type": "stream",
          "name": "stdout",
          "text": [
            "<class '__main__.today'>\n"
          ]
        }
      ],
      "source": [
        "class today:\n",
        "  pass\n",
        "obj=today()\n",
        "print(type(obj))"
      ]
    },
    {
      "cell_type": "code",
      "source": [
        "a=10\n",
        "b=20\n",
        "print(a-(-b))  #to add without using + operator to add\n",
        "print(a.__add__(b))\n",
        "print(a.__sub__(b))"
      ],
      "metadata": {
        "colab": {
          "base_uri": "https://localhost:8080/"
        },
        "id": "hSh12mfZuEoY",
        "outputId": "83910aad-9025-4815-bd37-47b2be98f1bc"
      },
      "execution_count": null,
      "outputs": [
        {
          "output_type": "stream",
          "name": "stdout",
          "text": [
            "30\n",
            "30\n",
            "-10\n"
          ]
        }
      ]
    },
    {
      "cell_type": "code",
      "source": [
        "class A:\n",
        "    def __init__(self,a):\n",
        "        self.a=a\n",
        "    #adding 2 numbers\n",
        "    def __add__(self,o):\n",
        "        return self.a+o.a\n",
        "ob1=A(1)\n",
        "ob2=A(2)\n",
        "ob3=A(\"RACE\")\n",
        "ob4=A(\"World\")\n",
        "\n",
        "print(ob1+ob2)\n",
        "print(ob3+ob4)"
      ],
      "metadata": {
        "colab": {
          "base_uri": "https://localhost:8080/"
        },
        "id": "P5ahm_qJxaC9",
        "outputId": "01ac89a7-5f07-4213-8452-79e39f13edc2"
      },
      "execution_count": null,
      "outputs": [
        {
          "output_type": "stream",
          "name": "stdout",
          "text": [
            "3\n",
            "RACEWorld\n"
          ]
        }
      ]
    },
    {
      "cell_type": "code",
      "source": [
        "a=int(input(\"enter the number= \"))\n",
        "b=int(input(\"enter the number= \"))\n",
        "c=int(input(\"enter the operations to be perfom = \"))\n",
        "\n",
        "dic={1:print(a.__add__(b)),2:(a.__sub__(b)),3:(a.__mul__(b)),4:(a.__mod__(b))}\n",
        "print(dic[c])"
      ],
      "metadata": {
        "id": "VkVmxqPr1ueG"
      },
      "execution_count": null,
      "outputs": []
    },
    {
      "cell_type": "markdown",
      "source": [
        "DAY 2"
      ],
      "metadata": {
        "id": "AObCJ1uCty72"
      }
    },
    {
      "cell_type": "code",
      "source": [
        "#program to add mulitiply and sub using  \n",
        "a,b,c=[int(x)for x in input().split()]\n",
        "dic={1:(a.__add__(b)),2:(a.__sub__(b)),3:(a.__mul__(b)),4:(a.__mod__(b))}\n",
        "print(dic[c])"
      ],
      "metadata": {
        "id": "PP3D3H-8t0wO"
      },
      "execution_count": null,
      "outputs": []
    },
    {
      "cell_type": "markdown",
      "source": [
        "INHERITANCE\n",
        "-Provides code reusability\n",
        "-use an existing class to create new class\n",
        "-inherit a base class into the derived class\n",
        "-inherit all the data fields and methods in base class\n",
        "\n",
        "syntax\n",
        "\n",
        "class baseclass:\n",
        "          body of the base class\n",
        "class derivedclass(baseclass):\n",
        "         body of the derived class\n"
      ],
      "metadata": {
        "id": "PrAMtWn-3_63"
      }
    },
    {
      "cell_type": "code",
      "source": [
        "# inheritance ex\n",
        "class Car:\n",
        "  def speed(self):\n",
        "    print(\"100km\")\n",
        "class Audi(Car):\n",
        "  def engine(self):\n",
        "    print(\"engine is powerful\")\n",
        "c=Audi()\n",
        "c.speed()\n",
        "c.engine()"
      ],
      "metadata": {
        "colab": {
          "base_uri": "https://localhost:8080/"
        },
        "id": "k1Jdd-s065Xr",
        "outputId": "a3188500-91ea-400a-9e73-a3a7bb7f27e4"
      },
      "execution_count": null,
      "outputs": [
        {
          "output_type": "stream",
          "name": "stdout",
          "text": [
            "100km\n",
            "engine is powerful\n"
          ]
        }
      ]
    },
    {
      "cell_type": "markdown",
      "source": [
        "Types of inheritance:\n",
        "\n",
        "      1.single inheritance\n",
        "      2.multiple inheritance\n",
        "      3.multilevel inheritance\n",
        "      4.hierarchical inheritance\n",
        "      5.hybrid inheritance\n",
        "\n",
        "\n",
        "archived when derived class inherits anoher derived class\n",
        "                  ->no limit of levels\n",
        "                  syntax:\n",
        "                    class c1:\n",
        "                      <class-suite>\n",
        "                    class c2(c1):\n",
        "                      <class-suite>\n",
        "                    class c3(c2):\n",
        "                      <class-suite>"
      ],
      "metadata": {
        "id": "izP0Nmhh7yiu"
      }
    },
    {
      "cell_type": "code",
      "source": [
        "class Car:\n",
        "  def speed(self):\n",
        "    print(\"100km\")\n",
        "class Audi(Car):\n",
        "  def engine(self):\n",
        "    print(\"engine is powerful\")\n",
        "class Lambo(Audi):\n",
        "  def black(self):\n",
        "    print(\"excellent car\")\n",
        "c=Lambo()\n",
        "c.speed()\n",
        "c.engine()\n",
        "c.black()"
      ],
      "metadata": {
        "colab": {
          "base_uri": "https://localhost:8080/"
        },
        "id": "sjMgAcwtBiOA",
        "outputId": "d6377829-79f9-494c-8e21-ac13e94fd441"
      },
      "execution_count": null,
      "outputs": [
        {
          "output_type": "stream",
          "name": "stdout",
          "text": [
            "100km\n",
            "engine is powerful\n",
            "excellent car\n"
          ]
        }
      ]
    },
    {
      "cell_type": "markdown",
      "source": [
        "multiple Inheritance\n",
        "\n",
        "                 Syntax:\n",
        "                    class Base1:\n",
        "                      <class-suite>\n",
        "                    class Base2:\n",
        "                      <class-suite>\n",
        "                    class Base3:\n",
        "                      <class-suite>\n",
        "                    class Derived(Base1,Base2,...BaseN):\n",
        "                    <class-suite>\n",
        "can have muliple base class "
      ],
      "metadata": {
        "id": "IH93z2heIlox"
      }
    },
    {
      "cell_type": "code",
      "source": [
        "class Animal1:\n",
        "  def __init__(self):\n",
        "    self.str1=\"dog\"\n",
        "    print(\"Animal1\")\n",
        "class Animal2:\n",
        "  def __init__(self):\n",
        "    self.str2=\"cat\"\n",
        "    print(\"Animal2\")\n",
        "class Ani(Animal1,Animal2):\n",
        "  def __init__(self):\n",
        "    Animal1.__init__(self)\n",
        "    Animal2.__init__(self)\n",
        "    print(\"Ani\")\n",
        "  def printStrs(self):\n",
        "    print(self.str1,self.str2)\n",
        "a=Ani()\n",
        "a.printStrs()"
      ],
      "metadata": {
        "colab": {
          "base_uri": "https://localhost:8080/"
        },
        "id": "zdx9K6byMsKl",
        "outputId": "063039b0-d2b5-44c0-a7d3-89673afaf6d5"
      },
      "execution_count": null,
      "outputs": [
        {
          "output_type": "stream",
          "name": "stdout",
          "text": [
            "Animal1\n",
            "Animal2\n",
            "Ani\n",
            "dog cat\n"
          ]
        }
      ]
    },
    {
      "cell_type": "markdown",
      "source": [],
      "metadata": {
        "id": "HpfxKzB5O79c"
      }
    },
    {
      "cell_type": "code",
      "source": [
        "class Parent:\n",
        "  def fun1(self):\n",
        "    print(\"first\")\n",
        "\n",
        "class New:    \n",
        "  def fun1(self):\n",
        "    \n",
        "    print(\"second\")\n",
        "\n",
        "o=New()\n",
        "o.fun1()  # only prints second "
      ],
      "metadata": {
        "colab": {
          "base_uri": "https://localhost:8080/"
        },
        "id": "o5lbIqQiP9Az",
        "outputId": "abc32a28-f9d2-4f01-bd85-97af862db73a"
      },
      "execution_count": null,
      "outputs": [
        {
          "output_type": "stream",
          "name": "stdout",
          "text": [
            "second\n"
          ]
        }
      ]
    },
    {
      "cell_type": "markdown",
      "source": [
        "WEEK 2 DAY 1"
      ],
      "metadata": {
        "id": "j8oE3beCUlkC"
      }
    },
    {
      "cell_type": "code",
      "source": [
        "#iteratble\n",
        "a=[1,2,3,4,5]\n",
        "for i in a:\n",
        "    print(i)\n",
        "print(a)"
      ],
      "metadata": {
        "id": "_6aw6tDkQA6k"
      },
      "execution_count": null,
      "outputs": []
    },
    {
      "cell_type": "code",
      "source": [
        "a=[1,2,3,4,5]\n",
        "z=iter(a)\n"
      ],
      "metadata": {
        "id": "zP1VBfrpZqFc"
      },
      "execution_count": 3,
      "outputs": []
    },
    {
      "cell_type": "code",
      "source": [
        "try:\n",
        "    print(next(z))\n",
        "    \n",
        "except StopIteration:\n",
        "    print(\"Stop\")"
      ],
      "metadata": {
        "colab": {
          "base_uri": "https://localhost:8080/"
        },
        "id": "aCtcMHJtkJba",
        "outputId": "ad7b879c-4138-42de-fda5-937650457545"
      },
      "execution_count": 4,
      "outputs": [
        {
          "output_type": "stream",
          "name": "stdout",
          "text": [
            "1\n"
          ]
        }
      ]
    },
    {
      "cell_type": "markdown",
      "source": [
        "generator->another method to create iterators using \"yield\" instead of returning it in defined function"
      ],
      "metadata": {
        "id": "rYHP0bDnkPnX"
      }
    },
    {
      "cell_type": "code",
      "source": [
        "def sq(n):\n",
        "    for i in range(1,n+1):\n",
        "        yield i*i\n",
        "        \n",
        "a=sq(3)\n",
        "print(\"square:\")\n",
        "print(next(a))\n",
        "print(next(a))"
      ],
      "metadata": {
        "colab": {
          "base_uri": "https://localhost:8080/"
        },
        "id": "GELJgXzkkMIc",
        "outputId": "b88dcd7a-992c-4de1-d5bb-db079b022c3d"
      },
      "execution_count": 5,
      "outputs": [
        {
          "output_type": "stream",
          "name": "stdout",
          "text": [
            "square:\n",
            "1\n",
            "4\n"
          ]
        }
      ]
    },
    {
      "cell_type": "code",
      "source": [],
      "metadata": {
        "id": "K4oG4SFRkUo2"
      },
      "execution_count": null,
      "outputs": []
    }
  ]
}